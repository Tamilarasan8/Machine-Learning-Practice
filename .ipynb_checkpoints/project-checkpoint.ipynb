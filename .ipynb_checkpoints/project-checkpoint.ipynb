{
 "cells": [
  {
   "cell_type": "code",
   "execution_count": 15,
   "id": "bb2c5261-c87b-42bf-8004-a4566d3dfcc7",
   "metadata": {},
   "outputs": [],
   "source": [
    "import pandas as pd\n",
    "import numpy as np"
   ]
  },
  {
   "cell_type": "code",
   "execution_count": 16,
   "id": "79f2bd2d-0ec4-45df-8155-d0ea69893bfb",
   "metadata": {},
   "outputs": [],
   "source": [
    "df = pd.read_csv(r\"C:\\Users\\tamil.LAPTOP-OCKTKCUQ\\Downloads\\archive\\dataset_phishing.csv\")"
   ]
  },
  {
   "cell_type": "code",
   "execution_count": 17,
   "id": "eec99735-6432-476c-8b7c-18b102abac37",
   "metadata": {},
   "outputs": [
    {
     "name": "stdout",
     "output_type": "stream",
     "text": [
      "37\n"
     ]
    }
   ],
   "source": [
    "print(len(\"http://www.crestonwood.com/router.php\"))"
   ]
  },
  {
   "cell_type": "code",
   "execution_count": 30,
   "id": "966a1ae0-62b5-4f7d-9b0b-76240b8b1e11",
   "metadata": {},
   "outputs": [
    {
     "data": {
      "text/plain": [
       "89"
      ]
     },
     "execution_count": 30,
     "metadata": {},
     "output_type": "execute_result"
    }
   ],
   "source": [
    "len(df.columns)"
   ]
  },
  {
   "cell_type": "code",
   "execution_count": null,
   "id": "487334e0-6093-4991-8f91-1b7e2142a4f8",
   "metadata": {},
   "outputs": [],
   "source": [
    "# 1 feature\n",
    "import ipaddress \n",
    "def haveip(url):\n",
    "    "
   ]
  },
  {
   "cell_type": "code",
   "execution_count": null,
   "id": "46632f96-1614-4aaa-a6f7-087d61e63c6c",
   "metadata": {},
   "outputs": [],
   "source": []
  }
 ],
 "metadata": {
  "kernelspec": {
   "display_name": "Python 3 (ipykernel)",
   "language": "python",
   "name": "python3"
  },
  "language_info": {
   "codemirror_mode": {
    "name": "ipython",
    "version": 3
   },
   "file_extension": ".py",
   "mimetype": "text/x-python",
   "name": "python",
   "nbconvert_exporter": "python",
   "pygments_lexer": "ipython3",
   "version": "3.11.7"
  }
 },
 "nbformat": 4,
 "nbformat_minor": 5
}
